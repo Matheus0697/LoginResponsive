{
  "nbformat": 4,
  "nbformat_minor": 0,
  "metadata": {
    "colab": {
      "provenance": [],
      "authorship_tag": "ABX9TyMasU+H5GqgA2ktopiK9MR3",
      "include_colab_link": true
    },
    "kernelspec": {
      "name": "python3",
      "display_name": "Python 3"
    },
    "language_info": {
      "name": "python"
    }
  },
  "cells": [
    {
      "cell_type": "markdown",
      "metadata": {
        "id": "view-in-github",
        "colab_type": "text"
      },
      "source": [
        "<a href=\"https://colab.research.google.com/github/Matheus0697/LoginResponsive/blob/main/SistemaRecomendacaoPython.ipynb\" target=\"_parent\"><img src=\"https://colab.research.google.com/assets/colab-badge.svg\" alt=\"Open In Colab\"/></a>"
      ]
    },
    {
      "cell_type": "code",
      "source": [
        "import pandas as pd\n",
        "import numpy as np\n",
        "from scipy.sparse import csr_matrix\n",
        "from sklearn.neighbors import NearestNeighbors\n",
        "\n",
        "# IDs das planilhas Google\n",
        "sheet_id_filmes = '1QnKjOTBYDwItVJJiwlz46tBs5xR2EQyDKa6XJY9iD4o'\n",
        "sheet_id_avaliacoes = '1ZOJCtiD1SAN9bLgVMgLSWPMqG6EoX5YCVWsLhD3SGow'\n",
        "\n",
        "# URLs para acessar os dados das planilhas Google\n",
        "url_filmes = f'https://docs.google.com/spreadsheets/d/{sheet_id_filmes}/export?format=csv'\n",
        "url_avaliacoes = f'https://docs.google.com/spreadsheets/d/{sheet_id_avaliacoes}/export?format=csv'\n",
        "\n",
        "# Carregando os dados\n",
        "filmes = pd.read_csv(url_filmes)\n",
        "avaliacoes = pd.read_csv(url_avaliacoes)\n",
        "\n",
        "# Filtrando e renomeando colunas\n",
        "filmes = filmes[['id', 'original_title', 'original_language', 'vote_count']]\n",
        "filmes.columns = ['ID_FILME', 'TITULO', 'LINGUAGEM', 'QT_AVALIACOES']\n",
        "\n",
        "avaliacoes = avaliacoes[['userId', 'movieId', 'rating']]\n",
        "avaliacoes.columns = ['ID_USUARIO', 'ID_FILME', 'AVALIACAO']\n",
        "\n",
        "# Removendo valores nulos\n",
        "filmes.dropna(inplace=True)\n",
        "\n",
        "# Selecionando usuários com mais de 999 avaliações\n",
        "usuarios_ativos = avaliacoes['ID_USUARIO'].value_counts() > 999\n",
        "usuarios_ativos = usuarios_ativos[usuarios_ativos].index\n",
        "avaliacoes = avaliacoes[avaliacoes['ID_USUARIO'].isin(usuarios_ativos)]\n",
        "\n",
        "# Filtrando filmes com mais de 999 avaliações e em inglês\n",
        "filmes = filmes[(filmes['QT_AVALIACOES'] > 999) & (filmes['LINGUAGEM'] == 'en')]\n",
        "\n",
        "# Convertendo ID_FILME para inteiro\n",
        "filmes['ID_FILME'] = filmes['ID_FILME'].astype(int)\n",
        "\n",
        "# Unindo DataFrames\n",
        "avaliacoes_e_filmes = avaliacoes.merge(filmes, on='ID_FILME')\n",
        "\n",
        "# Removendo duplicatas\n",
        "avaliacoes_e_filmes.drop_duplicates(['ID_USUARIO', 'ID_FILME'], inplace=True)\n",
        "avaliacoes_e_filmes.drop(columns='ID_FILME', inplace=True)\n",
        "\n",
        "# Transformando em tabela pivô e preenchendo nulos com zero\n",
        "filmes_pivot = avaliacoes_e_filmes.pivot_table(columns='ID_USUARIO', index='TITULO', values='AVALIACAO').fillna(0)\n",
        "\n",
        "# Criando matriz sparsa\n",
        "filmes_sparse = csr_matrix(filmes_pivot)\n",
        "\n",
        "# Treinando o modelo KNN\n",
        "modelo = NearestNeighbors(algorithm='brute')\n",
        "modelo.fit(filmes_sparse)\n",
        "\n",
        "# Listando os 10 filmes mais bem avaliados\n",
        "filmes_media_avaliacoes = avaliacoes_e_filmes.groupby('TITULO')['AVALIACAO'].mean()\n",
        "top_10_filmes = filmes_media_avaliacoes.sort_values(ascending=False).head(10)\n",
        "print(\"Top 10 filmes mais bem avaliados:\")\n",
        "print(top_10_filmes)\n",
        "\n",
        "# Input para o usuário digitar o nome do filme\n",
        "filme_input = input(\"Digite o nome do filme para obter recomendações: \").strip().lower()\n",
        "\n",
        "# Convertendo os títulos dos filmes para minúsculas\n",
        "filmes_pivot_lower = filmes_pivot.copy()\n",
        "filmes_pivot_lower.index = filmes_pivot_lower.index.str.lower()\n",
        "\n",
        "# Fazendo recomendações\n",
        "if filme_input in filmes_pivot_lower.index:\n",
        "    distances, suggestions = modelo.kneighbors(filmes_pivot_lower.loc[[filme_input]].values)\n",
        "    print(f\"Recomendações para '{filme_input}':\")\n",
        "    for i in range(len(suggestions[0])):\n",
        "        print(filmes_pivot.index[suggestions[0][i]])\n",
        "else:\n",
        "    print(\"Filme não encontrado. Por favor, verifique o nome e tente novamente.\")\n"
      ],
      "metadata": {
        "colab": {
          "base_uri": "https://localhost:8080/"
        },
        "id": "WSveSb7LeBAk",
        "outputId": "aabb7385-42af-42bf-8dcf-595b26f47289"
      },
      "execution_count": 20,
      "outputs": [
        {
          "output_type": "stream",
          "name": "stderr",
          "text": [
            "<ipython-input-20-0d3b7d8ab29d>:26: SettingWithCopyWarning: \n",
            "A value is trying to be set on a copy of a slice from a DataFrame\n",
            "\n",
            "See the caveats in the documentation: https://pandas.pydata.org/pandas-docs/stable/user_guide/indexing.html#returning-a-view-versus-a-copy\n",
            "  filmes.dropna(inplace=True)\n"
          ]
        },
        {
          "output_type": "stream",
          "name": "stdout",
          "text": [
            "Top 10 filmes mais bem avaliados:\n",
            "TITULO\n",
            "Zodiac                                           5.000000\n",
            "The Mummy Returns                                5.000000\n",
            "Hulk                                             5.000000\n",
            "The Green Mile                                   4.500000\n",
            "Lawless                                          4.500000\n",
            "Rush Hour                                        4.500000\n",
            "The Lord of the Rings: The Return of the King    4.500000\n",
            "The Bourne Supremacy                             4.500000\n",
            "Dawn of the Dead                                 4.333333\n",
            "Notting Hill                                     4.250000\n",
            "Name: AVALIACAO, dtype: float64\n",
            "Digite o nome do filme para obter recomendações: 300\n",
            "Recomendações para '300':\n",
            "300\n",
            "Back to the Future\n",
            "The Lovely Bones\n",
            "Armageddon\n",
            "Romeo + Juliet\n"
          ]
        }
      ]
    }
  ]
}