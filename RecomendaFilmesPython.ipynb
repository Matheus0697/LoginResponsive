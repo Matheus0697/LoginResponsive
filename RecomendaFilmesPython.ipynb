{
  "cells": [
    {
      "cell_type": "markdown",
      "metadata": {
        "id": "view-in-github",
        "colab_type": "text"
      },
      "source": [
        "<a href=\"https://colab.research.google.com/github/Matheus0697/LoginResponsive/blob/main/RecomendaFilmesPython.ipynb\" target=\"_parent\"><img src=\"https://colab.research.google.com/assets/colab-badge.svg\" alt=\"Open In Colab\"/></a>"
      ]
    },
    {
      "cell_type": "code",
      "execution_count": 27,
      "metadata": {
        "colab": {
          "base_uri": "https://localhost:8080/"
        },
        "id": "WSveSb7LeBAk",
        "outputId": "79dc2159-0fa7-493d-b08c-bda88de3a02d"
      },
      "outputs": [
        {
          "output_type": "stream",
          "name": "stderr",
          "text": [
            "<ipython-input-27-62e50f36494b>:26: SettingWithCopyWarning: \n",
            "A value is trying to be set on a copy of a slice from a DataFrame\n",
            "\n",
            "See the caveats in the documentation: https://pandas.pydata.org/pandas-docs/stable/user_guide/indexing.html#returning-a-view-versus-a-copy\n",
            "  filmes.dropna(inplace=True)\n"
          ]
        },
        {
          "output_type": "stream",
          "name": "stdout",
          "text": [
            "Top 10 filmes mais bem avaliados:\n",
            "                                       TITULO  AVALIACAO\n",
            "                                       Zodiac       5.00\n",
            "                            The Mummy Returns       5.00\n",
            "                                         Hulk       5.00\n",
            "                               The Green Mile       4.50\n",
            "                                      Lawless       4.50\n",
            "                                    Rush Hour       4.50\n",
            "The Lord of the Rings: The Return of the King       4.50\n",
            "                         The Bourne Supremacy       4.50\n",
            "                             Dawn of the Dead       4.33\n",
            "                                 Notting Hill       4.25\n",
            "Digite o nome do filme para obter recomendações: superman\n",
            "Recomendações para 'superman':\n",
            "The Chronicles of Narnia: Prince Caspian\n",
            "Ocean's Eleven\n",
            "Mission: Impossible II\n",
            "Memento\n"
          ]
        }
      ],
      "source": [
        "import pandas as pd\n",
        "import numpy as np\n",
        "from scipy.sparse import csr_matrix\n",
        "from sklearn.neighbors import NearestNeighbors\n",
        "\n",
        "# IDs das planilhas Google\n",
        "sheet_id_filmes = '1QnKjOTBYDwItVJJiwlz46tBs5xR2EQyDKa6XJY9iD4o'\n",
        "sheet_id_avaliacoes = '1ZOJCtiD1SAN9bLgVMgLSWPMqG6EoX5YCVWsLhD3SGow'\n",
        "\n",
        "# URLs para acessar os dados das planilhas Google\n",
        "url_filmes = f'https://docs.google.com/spreadsheets/d/{sheet_id_filmes}/export?format=csv'\n",
        "url_avaliacoes = f'https://docs.google.com/spreadsheets/d/{sheet_id_avaliacoes}/export?format=csv'\n",
        "\n",
        "# Carregando os dados das planilhas em DataFrames do Pandas\n",
        "filmes = pd.read_csv(url_filmes)\n",
        "avaliacoes = pd.read_csv(url_avaliacoes)\n",
        "\n",
        "# Filtrando colunas relevantes e renomeando-as\n",
        "filmes = filmes[['id', 'original_title', 'original_language', 'vote_count']]\n",
        "filmes.columns = ['ID_FILME', 'TITULO', 'LINGUAGEM', 'QT_AVALIACOES']\n",
        "\n",
        "avaliacoes = avaliacoes[['userId', 'movieId', 'rating']]\n",
        "avaliacoes.columns = ['ID_USUARIO', 'ID_FILME', 'AVALIACAO']\n",
        "\n",
        "# Removendo quaisquer valores nulos do DataFrame de filmes\n",
        "filmes.dropna(inplace=True)\n",
        "\n",
        "# Selecionando apenas os usuários que fizeram mais de 999 avaliações\n",
        "usuarios_ativos = avaliacoes['ID_USUARIO'].value_counts() > 999\n",
        "usuarios_ativos = usuarios_ativos[usuarios_ativos].index\n",
        "avaliacoes = avaliacoes[avaliacoes['ID_USUARIO'].isin(usuarios_ativos)]\n",
        "\n",
        "# Filtrando filmes que têm mais de 999 avaliações e que são em inglês\n",
        "filmes = filmes[(filmes['QT_AVALIACOES'] > 999) & (filmes['LINGUAGEM'] == 'en')]\n",
        "\n",
        "# Convertendo a coluna ID_FILME para o tipo inteiro\n",
        "filmes['ID_FILME'] = filmes['ID_FILME'].astype(int)\n",
        "\n",
        "# Unindo os DataFrames de avaliações e filmes com base no ID_FILME\n",
        "avaliacoes_e_filmes = avaliacoes.merge(filmes, on='ID_FILME')\n",
        "\n",
        "# Removendo duplicatas no DataFrame unificado\n",
        "avaliacoes_e_filmes.drop_duplicates(['ID_USUARIO', 'ID_FILME'], inplace=True)\n",
        "\n",
        "# Removendo a coluna ID_FILME após a mesclagem\n",
        "avaliacoes_e_filmes.drop(columns='ID_FILME', inplace=True)\n",
        "\n",
        "# Criando uma tabela pivô com filmes como índices e usuários como colunas\n",
        "filmes_pivot = avaliacoes_e_filmes.pivot_table(columns='ID_USUARIO', index='TITULO', values='AVALIACAO').fillna(0)\n",
        "\n",
        "# Convertendo a tabela pivô para uma matriz esparsa para economizar memória\n",
        "filmes_sparse = csr_matrix(filmes_pivot)\n",
        "\n",
        "# Treinando o modelo KNN (K-Nearest Neighbors) para recomendações\n",
        "modelo = NearestNeighbors(algorithm='brute')\n",
        "modelo.fit(filmes_sparse)\n",
        "\n",
        "# Calculando a média das avaliações para cada filme\n",
        "filmes_media_avaliacoes = avaliacoes_e_filmes.groupby('TITULO')['AVALIACAO'].mean()\n",
        "\n",
        "# Selecionando os 10 filmes com a melhor média de avaliação\n",
        "top_10_filmes = filmes_media_avaliacoes.sort_values(ascending=False).head(10)\n",
        "top_10_filmes_df = top_10_filmes.reset_index()\n",
        "\n",
        "# Arredondando as médias das avaliações para duas casas decimais\n",
        "top_10_filmes_df['AVALIACAO'] = top_10_filmes_df['AVALIACAO'].round(2)\n",
        "\n",
        "# Exibindo os 10 filmes mais bem avaliados\n",
        "print(\"Top 10 filmes mais bem avaliados:\")\n",
        "print(top_10_filmes_df.to_string(index=False, header=True))\n",
        "\n",
        "# Solicitando ao usuário que digite o nome de um filme para obter recomendações\n",
        "filme_input = input(\"Digite o nome do filme para obter recomendações: \").strip().lower()\n",
        "\n",
        "# Convertendo os títulos dos filmes para minúsculas para correspondência de strings\n",
        "filmes_pivot_lower = filmes_pivot.copy()\n",
        "filmes_pivot_lower.index = filmes_pivot_lower.index.str.lower()\n",
        "\n",
        "# Fazendo recomendações com base no filme informado pelo usuário\n",
        "if filme_input in filmes_pivot_lower.index:\n",
        "    # Encontrando os vizinhos mais próximos do filme informado\n",
        "    distances, suggestions = modelo.kneighbors(filmes_pivot_lower.loc[[filme_input]].values)\n",
        "\n",
        "    # Exibindo os filmes recomendados, excluindo o filme de entrada\n",
        "    print(f\"Recomendações para '{filme_input}':\")\n",
        "    for i in range(len(suggestions[0])):\n",
        "        recommended_movie = filmes_pivot.index[suggestions[0][i]]\n",
        "        recommended_movie_lower = recommended_movie.lower()  # Converte para minúsculas\n",
        "        if recommended_movie_lower != filme_input:  # Verifica se não é o filme de entrada\n",
        "            print(recommended_movie)\n",
        "else:\n",
        "    # Exibindo mensagem de erro caso o filme não seja encontrado\n",
        "    print(\"Filme não encontrado. Por favor, verifique o nome e tente novamente.\")\n",
        "\n"
      ]
    }
  ],
  "metadata": {
    "colab": {
      "provenance": [],
      "authorship_tag": "ABX9TyOch2SML1et4ktClnUv4/at",
      "include_colab_link": true
    },
    "kernelspec": {
      "display_name": "Python 3",
      "name": "python3"
    },
    "language_info": {
      "name": "python"
    }
  },
  "nbformat": 4,
  "nbformat_minor": 0
}